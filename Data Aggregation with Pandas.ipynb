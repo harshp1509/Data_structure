{
 "cells": [
  {
   "cell_type": "code",
   "execution_count": 1,
   "id": "2a219066-2484-463a-a00f-404f9823e49a",
   "metadata": {},
   "outputs": [],
   "source": [
    "import pandas as pd"
   ]
  },
  {
   "cell_type": "code",
   "execution_count": 21,
   "id": "9e9c8ab5-b656-40ed-bfb9-b1f21bc1b8ed",
   "metadata": {},
   "outputs": [],
   "source": [
    "data = {'city': [], 'date': [], 'temperature': []}\n"
   ]
  },
  {
   "cell_type": "code",
   "execution_count": 23,
   "id": "c243acde-9915-4820-ae21-4b2fcfacfb17",
   "metadata": {},
   "outputs": [],
   "source": [
    "data['city'].extend(['surat','surat','surat'])\n",
    "data['date'].extend(['2024-03-04', '2024-03-05', '2024-03-06'])\n",
    "data['temperature'].extend([25.5, 26.0, 24.5])"
   ]
  },
  {
   "cell_type": "code",
   "execution_count": 24,
   "id": "ce0acced-6b9a-4b04-accc-a76249b22484",
   "metadata": {},
   "outputs": [],
   "source": [
    "data['city'].extend(['gandhinagar','gandhinagar','gandhinagar'])\n",
    "data['date'].extend(['2024-03-04', '2024-03-05', '2024-03-06'])\n",
    "data['temperature'].extend([30.5, 28.0, 26.5])"
   ]
  },
  {
   "cell_type": "code",
   "execution_count": 25,
   "id": "d5094d2c-ab26-4a59-b702-4f5db719f97a",
   "metadata": {},
   "outputs": [],
   "source": [
    "data['city'].extend(['jaipur','jaipur','jaipur'])\n",
    "data['date'].extend(['2024-03-04', '2024-03-05', '2024-03-06'])\n",
    "data['temperature'].extend([20.5, 31.2, 29.5])"
   ]
  },
  {
   "cell_type": "code",
   "execution_count": 26,
   "id": "a5630b0c-dd59-402e-ac3a-c0be5a8da43e",
   "metadata": {},
   "outputs": [],
   "source": [
    "data['city'].extend(['mumbai','mumbai','mumbai'])\n",
    "data['date'].extend(['2024-03-04', '2024-03-05', '2024-03-06'])\n",
    "data['temperature'].extend([23.5, 26.3, 28.5])"
   ]
  },
  {
   "cell_type": "code",
   "execution_count": 28,
   "id": "c0e54214-f551-49dc-b94f-79e81b0f435f",
   "metadata": {},
   "outputs": [],
   "source": [
    "data['city'].extend(['nadiad','nadiad','nadiad'])\n",
    "data['date'].extend(['2024-03-04', '2024-03-05', '2024-03-06'])\n",
    "data['temperature'].extend([26.3, 22.7, 34.5])"
   ]
  },
  {
   "cell_type": "code",
   "execution_count": 29,
   "id": "4cd9ee05-a9ca-408c-86d9-b2e8d36a1a81",
   "metadata": {},
   "outputs": [],
   "source": [
    "data['city'].extend(['himatnagar','himatnagar','himatnagar'])\n",
    "data['date'].extend(['2024-03-04', '2024-03-05', '2024-03-06'])\n",
    "data['temperature'].extend([23.5, 22.0, 24.8])"
   ]
  },
  {
   "cell_type": "code",
   "execution_count": 30,
   "id": "cc4b2811-b536-47de-bac6-daeb03af20a3",
   "metadata": {},
   "outputs": [
    {
     "data": {
      "text/plain": [
       "{'city': ['surat',\n",
       "  'surat',\n",
       "  'surat',\n",
       "  'gandhinagar',\n",
       "  'gandhinagar',\n",
       "  'gandhinagar',\n",
       "  'jaipur',\n",
       "  'jaipur',\n",
       "  'jaipur',\n",
       "  'mumbai',\n",
       "  'mumbai',\n",
       "  'mumbai',\n",
       "  'nadiad',\n",
       "  'nadiad',\n",
       "  'nadiad',\n",
       "  'himatnagar',\n",
       "  'himatnagar',\n",
       "  'himatnagar'],\n",
       " 'date': ['2024-03-04',\n",
       "  '2024-03-05',\n",
       "  '2024-03-06',\n",
       "  '2024-03-04',\n",
       "  '2024-03-05',\n",
       "  '2024-03-06',\n",
       "  '2024-03-04',\n",
       "  '2024-03-05',\n",
       "  '2024-03-06',\n",
       "  '2024-03-04',\n",
       "  '2024-03-05',\n",
       "  '2024-03-06',\n",
       "  '2024-03-04',\n",
       "  '2024-03-05',\n",
       "  '2024-03-06',\n",
       "  '2024-03-04',\n",
       "  '2024-03-05',\n",
       "  '2024-03-06'],\n",
       " 'temperature': [25.5,\n",
       "  26.0,\n",
       "  24.5,\n",
       "  30.5,\n",
       "  28.0,\n",
       "  26.5,\n",
       "  20.5,\n",
       "  31.2,\n",
       "  29.5,\n",
       "  23.5,\n",
       "  26.3,\n",
       "  28.5,\n",
       "  26.3,\n",
       "  22.7,\n",
       "  34.5,\n",
       "  23.5,\n",
       "  22.0,\n",
       "  24.8]}"
      ]
     },
     "execution_count": 30,
     "metadata": {},
     "output_type": "execute_result"
    }
   ],
   "source": [
    "data"
   ]
  },
  {
   "cell_type": "code",
   "execution_count": 32,
   "id": "5dd92514-9251-461e-85dd-9f5a522e46d5",
   "metadata": {},
   "outputs": [
    {
     "data": {
      "text/html": [
       "<div>\n",
       "<style scoped>\n",
       "    .dataframe tbody tr th:only-of-type {\n",
       "        vertical-align: middle;\n",
       "    }\n",
       "\n",
       "    .dataframe tbody tr th {\n",
       "        vertical-align: top;\n",
       "    }\n",
       "\n",
       "    .dataframe thead th {\n",
       "        text-align: right;\n",
       "    }\n",
       "</style>\n",
       "<table border=\"1\" class=\"dataframe\">\n",
       "  <thead>\n",
       "    <tr style=\"text-align: right;\">\n",
       "      <th></th>\n",
       "      <th>city</th>\n",
       "      <th>date</th>\n",
       "      <th>temperature</th>\n",
       "    </tr>\n",
       "  </thead>\n",
       "  <tbody>\n",
       "    <tr>\n",
       "      <th>0</th>\n",
       "      <td>surat</td>\n",
       "      <td>2024-03-04</td>\n",
       "      <td>25.5</td>\n",
       "    </tr>\n",
       "    <tr>\n",
       "      <th>1</th>\n",
       "      <td>surat</td>\n",
       "      <td>2024-03-05</td>\n",
       "      <td>26.0</td>\n",
       "    </tr>\n",
       "    <tr>\n",
       "      <th>2</th>\n",
       "      <td>surat</td>\n",
       "      <td>2024-03-06</td>\n",
       "      <td>24.5</td>\n",
       "    </tr>\n",
       "    <tr>\n",
       "      <th>3</th>\n",
       "      <td>gandhinagar</td>\n",
       "      <td>2024-03-04</td>\n",
       "      <td>30.5</td>\n",
       "    </tr>\n",
       "    <tr>\n",
       "      <th>4</th>\n",
       "      <td>gandhinagar</td>\n",
       "      <td>2024-03-05</td>\n",
       "      <td>28.0</td>\n",
       "    </tr>\n",
       "    <tr>\n",
       "      <th>5</th>\n",
       "      <td>gandhinagar</td>\n",
       "      <td>2024-03-06</td>\n",
       "      <td>26.5</td>\n",
       "    </tr>\n",
       "    <tr>\n",
       "      <th>6</th>\n",
       "      <td>jaipur</td>\n",
       "      <td>2024-03-04</td>\n",
       "      <td>20.5</td>\n",
       "    </tr>\n",
       "    <tr>\n",
       "      <th>7</th>\n",
       "      <td>jaipur</td>\n",
       "      <td>2024-03-05</td>\n",
       "      <td>31.2</td>\n",
       "    </tr>\n",
       "    <tr>\n",
       "      <th>8</th>\n",
       "      <td>jaipur</td>\n",
       "      <td>2024-03-06</td>\n",
       "      <td>29.5</td>\n",
       "    </tr>\n",
       "    <tr>\n",
       "      <th>9</th>\n",
       "      <td>mumbai</td>\n",
       "      <td>2024-03-04</td>\n",
       "      <td>23.5</td>\n",
       "    </tr>\n",
       "    <tr>\n",
       "      <th>10</th>\n",
       "      <td>mumbai</td>\n",
       "      <td>2024-03-05</td>\n",
       "      <td>26.3</td>\n",
       "    </tr>\n",
       "    <tr>\n",
       "      <th>11</th>\n",
       "      <td>mumbai</td>\n",
       "      <td>2024-03-06</td>\n",
       "      <td>28.5</td>\n",
       "    </tr>\n",
       "    <tr>\n",
       "      <th>12</th>\n",
       "      <td>nadiad</td>\n",
       "      <td>2024-03-04</td>\n",
       "      <td>26.3</td>\n",
       "    </tr>\n",
       "    <tr>\n",
       "      <th>13</th>\n",
       "      <td>nadiad</td>\n",
       "      <td>2024-03-05</td>\n",
       "      <td>22.7</td>\n",
       "    </tr>\n",
       "    <tr>\n",
       "      <th>14</th>\n",
       "      <td>nadiad</td>\n",
       "      <td>2024-03-06</td>\n",
       "      <td>34.5</td>\n",
       "    </tr>\n",
       "    <tr>\n",
       "      <th>15</th>\n",
       "      <td>himatnagar</td>\n",
       "      <td>2024-03-04</td>\n",
       "      <td>23.5</td>\n",
       "    </tr>\n",
       "    <tr>\n",
       "      <th>16</th>\n",
       "      <td>himatnagar</td>\n",
       "      <td>2024-03-05</td>\n",
       "      <td>22.0</td>\n",
       "    </tr>\n",
       "    <tr>\n",
       "      <th>17</th>\n",
       "      <td>himatnagar</td>\n",
       "      <td>2024-03-06</td>\n",
       "      <td>24.8</td>\n",
       "    </tr>\n",
       "  </tbody>\n",
       "</table>\n",
       "</div>"
      ],
      "text/plain": [
       "           city        date  temperature\n",
       "0         surat  2024-03-04         25.5\n",
       "1         surat  2024-03-05         26.0\n",
       "2         surat  2024-03-06         24.5\n",
       "3   gandhinagar  2024-03-04         30.5\n",
       "4   gandhinagar  2024-03-05         28.0\n",
       "5   gandhinagar  2024-03-06         26.5\n",
       "6        jaipur  2024-03-04         20.5\n",
       "7        jaipur  2024-03-05         31.2\n",
       "8        jaipur  2024-03-06         29.5\n",
       "9        mumbai  2024-03-04         23.5\n",
       "10       mumbai  2024-03-05         26.3\n",
       "11       mumbai  2024-03-06         28.5\n",
       "12       nadiad  2024-03-04         26.3\n",
       "13       nadiad  2024-03-05         22.7\n",
       "14       nadiad  2024-03-06         34.5\n",
       "15   himatnagar  2024-03-04         23.5\n",
       "16   himatnagar  2024-03-05         22.0\n",
       "17   himatnagar  2024-03-06         24.8"
      ]
     },
     "execution_count": 32,
     "metadata": {},
     "output_type": "execute_result"
    }
   ],
   "source": [
    "df=pd.DataFrame(data)\n",
    "df"
   ]
  },
  {
   "cell_type": "code",
   "execution_count": 36,
   "id": "2f62a105-03d7-4dab-b723-242b6a28f67c",
   "metadata": {},
   "outputs": [
    {
     "data": {
      "text/plain": [
       "city\n",
       "gandhinagar    28.333333\n",
       "himatnagar     23.433333\n",
       "jaipur         27.066667\n",
       "mumbai         26.100000\n",
       "nadiad         27.833333\n",
       "surat          25.333333\n",
       "Name: temperature, dtype: float64"
      ]
     },
     "execution_count": 36,
     "metadata": {},
     "output_type": "execute_result"
    }
   ],
   "source": [
    "avg_tem_per_city = df.groupby('city')['temperature'].mean()\n",
    "avg_tem_per_city"
   ]
  },
  {
   "cell_type": "code",
   "execution_count": 40,
   "id": "a6854ea9-841d-4796-88aa-3555dba8b07c",
   "metadata": {},
   "outputs": [
    {
     "data": {
      "text/plain": [
       "'gandhinagar'"
      ]
     },
     "execution_count": 40,
     "metadata": {},
     "output_type": "execute_result"
    }
   ],
   "source": [
    "city_highest_avg_temp = average_temperature_per_city.idxmax()\n",
    "city_highest_avg_temp"
   ]
  },
  {
   "cell_type": "code",
   "execution_count": 42,
   "id": "cbf3165b-ac15-47dd-9e57-e3338b1e6453",
   "metadata": {},
   "outputs": [
    {
     "data": {
      "text/plain": [
       "28.333333333333332"
      ]
     },
     "execution_count": 42,
     "metadata": {},
     "output_type": "execute_result"
    }
   ],
   "source": [
    "highest_avg_temp = average_temperature_per_city.max()\n",
    "highest_avg_temp"
   ]
  },
  {
   "cell_type": "code",
   "execution_count": 46,
   "id": "dcdbb1fb-80ac-494f-bb88-6f127c16b7cd",
   "metadata": {},
   "outputs": [
    {
     "data": {
      "text/plain": [
       "'2024-03-04'"
      ]
     },
     "execution_count": 46,
     "metadata": {},
     "output_type": "execute_result"
    }
   ],
   "source": [
    "lowest_temp_date = df.loc[df['temperature'].idxmin()]['date']\n",
    "lowest_temp_date"
   ]
  },
  {
   "cell_type": "code",
   "execution_count": 47,
   "id": "f561deee-99c9-4ffc-af8d-1af744778b0e",
   "metadata": {},
   "outputs": [
    {
     "data": {
      "text/plain": [
       "20.5"
      ]
     },
     "execution_count": 47,
     "metadata": {},
     "output_type": "execute_result"
    }
   ],
   "source": [
    "lowest_temp = df['temperature'].min()\n",
    "lowest_temp"
   ]
  }
 ],
 "metadata": {
  "kernelspec": {
   "display_name": "Python 3 (ipykernel)",
   "language": "python",
   "name": "python3"
  },
  "language_info": {
   "codemirror_mode": {
    "name": "ipython",
    "version": 3
   },
   "file_extension": ".py",
   "mimetype": "text/x-python",
   "name": "python",
   "nbconvert_exporter": "python",
   "pygments_lexer": "ipython3",
   "version": "3.12.2"
  }
 },
 "nbformat": 4,
 "nbformat_minor": 5
}
