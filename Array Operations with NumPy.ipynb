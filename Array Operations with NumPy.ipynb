{
 "cells": [
  {
   "cell_type": "code",
   "execution_count": 2,
   "id": "586d2b3f-9711-48d8-a6c6-36f8f03522a6",
   "metadata": {},
   "outputs": [],
   "source": [
    "import numpy as np"
   ]
  },
  {
   "cell_type": "code",
   "execution_count": 3,
   "id": "d0224f74-a261-4e30-9702-b3c439688fb2",
   "metadata": {},
   "outputs": [],
   "source": [
    "A=np.random.randint(10,size=(5,5))\n",
    "B=np.random.randint(10,size=(5,5))"
   ]
  },
  {
   "cell_type": "code",
   "execution_count": 4,
   "id": "9a16b761-9118-447d-826e-c29d36bc5f48",
   "metadata": {},
   "outputs": [
    {
     "data": {
      "text/plain": [
       "(array([[5, 4, 2, 9, 8],\n",
       "        [9, 3, 6, 9, 2],\n",
       "        [3, 6, 9, 6, 2],\n",
       "        [1, 7, 8, 4, 7],\n",
       "        [1, 6, 5, 8, 7]]),\n",
       " array([[3, 4, 7, 3, 0],\n",
       "        [8, 2, 7, 7, 6],\n",
       "        [2, 2, 9, 4, 0],\n",
       "        [6, 4, 0, 3, 0],\n",
       "        [9, 0, 6, 2, 2]]))"
      ]
     },
     "execution_count": 4,
     "metadata": {},
     "output_type": "execute_result"
    }
   ],
   "source": [
    "A,B"
   ]
  },
  {
   "cell_type": "code",
   "execution_count": 5,
   "id": "ad98e647-e90f-43db-8d09-c78d394d5e06",
   "metadata": {},
   "outputs": [
    {
     "data": {
      "text/plain": [
       "array([[ 8,  8,  9, 12,  8],\n",
       "       [17,  5, 13, 16,  8],\n",
       "       [ 5,  8, 18, 10,  2],\n",
       "       [ 7, 11,  8,  7,  7],\n",
       "       [10,  6, 11, 10,  9]])"
      ]
     },
     "execution_count": 5,
     "metadata": {},
     "output_type": "execute_result"
    }
   ],
   "source": [
    "A+B"
   ]
  },
  {
   "cell_type": "code",
   "execution_count": 6,
   "id": "c76d4a07-e67d-463d-bd83-350756c3af9d",
   "metadata": {},
   "outputs": [
    {
     "data": {
      "text/plain": [
       "array([[177,  68, 129,  94,  40],\n",
       "       [135,  90, 150, 103,  22],\n",
       "       [129,  66, 156, 109,  40],\n",
       "       [162,  50, 170, 110,  56],\n",
       "       [172,  58, 136, 103,  50]])"
      ]
     },
     "execution_count": 6,
     "metadata": {},
     "output_type": "execute_result"
    }
   ],
   "source": [
    "np.dot(A,B)"
   ]
  },
  {
   "cell_type": "code",
   "execution_count": 7,
   "id": "732c6cbd-ba64-43db-a978-3740ad3694d5",
   "metadata": {},
   "outputs": [
    {
     "data": {
      "text/plain": [
       "array([5.6, 5.8, 5.2, 5.4, 5.4])"
      ]
     },
     "execution_count": 7,
     "metadata": {},
     "output_type": "execute_result"
    }
   ],
   "source": [
    "np.mean(A,axis=1)"
   ]
  },
  {
   "cell_type": "code",
   "execution_count": 8,
   "id": "5aa89054-e925-4370-8295-99d6e8aaf44b",
   "metadata": {},
   "outputs": [
    {
     "data": {
      "text/plain": [
       "array([2.57681975, 2.92574777, 2.48193473, 2.57681975, 2.41660919])"
      ]
     },
     "execution_count": 8,
     "metadata": {},
     "output_type": "execute_result"
    }
   ],
   "source": [
    "np.std(A,axis=1)"
   ]
  },
  {
   "cell_type": "code",
   "execution_count": 9,
   "id": "8895a4c5-3265-4e29-a983-5bd948489a2c",
   "metadata": {},
   "outputs": [
    {
     "data": {
      "text/plain": [
       "array([3.4, 6. , 3.4, 2.6, 3.8])"
      ]
     },
     "execution_count": 9,
     "metadata": {},
     "output_type": "execute_result"
    }
   ],
   "source": [
    "np.mean(B,axis=1)"
   ]
  },
  {
   "cell_type": "code",
   "execution_count": 10,
   "id": "c92f4cc4-4b99-4d0e-b80f-101a5b6cfaff",
   "metadata": {},
   "outputs": [
    {
     "data": {
      "text/plain": [
       "array([2.24499443, 2.0976177 , 3.0724583 , 2.33238076, 3.24961536])"
      ]
     },
     "execution_count": 10,
     "metadata": {},
     "output_type": "execute_result"
    }
   ],
   "source": [
    "np.std(B,axis=1)"
   ]
  },
  {
   "cell_type": "code",
   "execution_count": null,
   "id": "1eb14254-5bf7-45ad-b384-149730aa7273",
   "metadata": {},
   "outputs": [],
   "source": []
  }
 ],
 "metadata": {
  "kernelspec": {
   "display_name": "Python 3 (ipykernel)",
   "language": "python",
   "name": "python3"
  },
  "language_info": {
   "codemirror_mode": {
    "name": "ipython",
    "version": 3
   },
   "file_extension": ".py",
   "mimetype": "text/x-python",
   "name": "python",
   "nbconvert_exporter": "python",
   "pygments_lexer": "ipython3",
   "version": "3.12.2"
  }
 },
 "nbformat": 4,
 "nbformat_minor": 5
}
